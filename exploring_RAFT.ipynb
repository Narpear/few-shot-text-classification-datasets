{
 "cells": [
  {
   "cell_type": "markdown",
   "metadata": {},
   "source": [
    "### Exploring the RAFT (Real-world Annotated Few-Shot Tasks) dataset\n",
    "#### RAFT is a few-shot text classification benchmark"
   ]
  },
  {
   "cell_type": "code",
   "execution_count": 13,
   "metadata": {},
   "outputs": [],
   "source": [
    "from datasets import load_dataset"
   ]
  },
  {
   "cell_type": "code",
   "execution_count": 14,
   "metadata": {},
   "outputs": [],
   "source": [
    "dataset = load_dataset(\"ought/raft\", \"ade_corpus_v2\")"
   ]
  },
  {
   "cell_type": "code",
   "execution_count": 15,
   "metadata": {},
   "outputs": [
    {
     "name": "stderr",
     "output_type": "stream",
     "text": [
      "c:\\Users\\prerk\\AppData\\Local\\Programs\\Python\\Python311\\Lib\\site-packages\\datasets\\load.py:1429: FutureWarning: The repository for ought/raft contains custom code which must be executed to correctly load the dataset. You can inspect the repository content at https://hf.co/datasets/ought/raft\n",
      "You can avoid this message in future by passing the argument `trust_remote_code=True`.\n",
      "Passing `trust_remote_code=True` will be mandatory to load this dataset from the next major release of `datasets`.\n",
      "  warnings.warn(\n"
     ]
    },
    {
     "name": "stdout",
     "output_type": "stream",
     "text": [
      "['ade_corpus_v2', 'banking_77', 'terms_of_service', 'tai_safety_research', 'neurips_impact_statement_risks', 'overruling', 'systematic_review_inclusion', 'one_stop_english', 'tweet_eval_hate', 'twitter_complaints', 'semiconductor_org_types']\n"
     ]
    }
   ],
   "source": [
    "from datasets import get_dataset_config_names\n",
    "tasks = get_dataset_config_names('ought/raft')\n",
    "print(tasks)"
   ]
  },
  {
   "cell_type": "code",
   "execution_count": 16,
   "metadata": {},
   "outputs": [
    {
     "name": "stdout",
     "output_type": "stream",
     "text": [
      "2\n"
     ]
    }
   ],
   "source": [
    "print(len(dataset))"
   ]
  },
  {
   "cell_type": "code",
   "execution_count": 17,
   "metadata": {},
   "outputs": [
    {
     "name": "stdout",
     "output_type": "stream",
     "text": [
      "DatasetDict({\n",
      "    train: Dataset({\n",
      "        features: ['Sentence', 'ID', 'Label'],\n",
      "        num_rows: 50\n",
      "    })\n",
      "    test: Dataset({\n",
      "        features: ['Sentence', 'ID', 'Label'],\n",
      "        num_rows: 5000\n",
      "    })\n",
      "})\n"
     ]
    }
   ],
   "source": [
    "print(dataset)"
   ]
  },
  {
   "cell_type": "code",
   "execution_count": 20,
   "metadata": {},
   "outputs": [
    {
     "name": "stdout",
     "output_type": "stream",
     "text": [
      "{'Sentence': Value(dtype='string', id=None), 'ID': Value(dtype='int32', id=None), 'Label': ClassLabel(names=['Unlabeled', 'ADE-related', 'not ADE-related'], id=None)}\n",
      "['Unlabeled', 'ADE-related', 'not ADE-related']\n"
     ]
    }
   ],
   "source": [
    "# inspecting labels associated with the dataset\n",
    "\n",
    "train_dataset = dataset['train']\n",
    "print(train_dataset.features)\n",
    "label_info = train_dataset.features[\"Label\"]\n",
    "print([label_info.int2str(i) for i in (0, 1, 2)])"
   ]
  },
  {
   "cell_type": "code",
   "execution_count": 21,
   "metadata": {},
   "outputs": [
    {
     "name": "stdout",
     "output_type": "stream",
     "text": [
      "Counter({2: 35, 1: 15})\n"
     ]
    }
   ],
   "source": [
    "# counting the number of shots per class\n",
    "\n",
    "from collections import Counter\n",
    "\n",
    "counter = Counter(train_dataset[\"Label\"])\n",
    "print(counter)"
   ]
  }
 ],
 "metadata": {
  "kernelspec": {
   "display_name": "Python 3",
   "language": "python",
   "name": "python3"
  },
  "language_info": {
   "codemirror_mode": {
    "name": "ipython",
    "version": 3
   },
   "file_extension": ".py",
   "mimetype": "text/x-python",
   "name": "python",
   "nbconvert_exporter": "python",
   "pygments_lexer": "ipython3",
   "version": "3.11.4"
  }
 },
 "nbformat": 4,
 "nbformat_minor": 2
}
