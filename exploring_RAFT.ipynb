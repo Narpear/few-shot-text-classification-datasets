{
 "cells": [
  {
   "cell_type": "markdown",
   "metadata": {},
   "source": [
    "### Exploring the RAFT (Real-world Annotated Few-Shot Tasks) dataset\n",
    "#### RAFT is a few-shot text classification benchmark"
   ]
  },
  {
   "cell_type": "code",
   "execution_count": 1,
   "metadata": {},
   "outputs": [
    {
     "name": "stderr",
     "output_type": "stream",
     "text": [
      "c:\\Users\\prerk\\AppData\\Local\\Programs\\Python\\Python311\\Lib\\site-packages\\tqdm\\auto.py:21: TqdmWarning: IProgress not found. Please update jupyter and ipywidgets. See https://ipywidgets.readthedocs.io/en/stable/user_install.html\n",
      "  from .autonotebook import tqdm as notebook_tqdm\n"
     ]
    }
   ],
   "source": [
    "from datasets import load_dataset"
   ]
  },
  {
   "cell_type": "code",
   "execution_count": 2,
   "metadata": {},
   "outputs": [
    {
     "name": "stderr",
     "output_type": "stream",
     "text": [
      "c:\\Users\\prerk\\AppData\\Local\\Programs\\Python\\Python311\\Lib\\site-packages\\datasets\\load.py:1429: FutureWarning: The repository for ought/raft contains custom code which must be executed to correctly load the dataset. You can inspect the repository content at https://hf.co/datasets/ought/raft\n",
      "You can avoid this message in future by passing the argument `trust_remote_code=True`.\n",
      "Passing `trust_remote_code=True` will be mandatory to load this dataset from the next major release of `datasets`.\n",
      "  warnings.warn(\n"
     ]
    },
    {
     "name": "stdout",
     "output_type": "stream",
     "text": [
      "['ade_corpus_v2', 'banking_77', 'terms_of_service', 'tai_safety_research', 'neurips_impact_statement_risks', 'overruling', 'systematic_review_inclusion', 'one_stop_english', 'tweet_eval_hate', 'twitter_complaints', 'semiconductor_org_types']\n"
     ]
    }
   ],
   "source": [
    "from datasets import get_dataset_config_names\n",
    "tasks = get_dataset_config_names('ought/raft')\n",
    "print(tasks)"
   ]
  },
  {
   "cell_type": "code",
   "execution_count": 3,
   "metadata": {},
   "outputs": [],
   "source": [
    "dataset = load_dataset(\"ought/raft\", \"ade_corpus_v2\")"
   ]
  },
  {
   "cell_type": "code",
   "execution_count": 4,
   "metadata": {},
   "outputs": [
    {
     "name": "stdout",
     "output_type": "stream",
     "text": [
      "2\n"
     ]
    }
   ],
   "source": [
    "print(len(dataset))"
   ]
  },
  {
   "cell_type": "code",
   "execution_count": 5,
   "metadata": {},
   "outputs": [
    {
     "name": "stdout",
     "output_type": "stream",
     "text": [
      "DatasetDict({\n",
      "    train: Dataset({\n",
      "        features: ['Sentence', 'ID', 'Label'],\n",
      "        num_rows: 50\n",
      "    })\n",
      "    test: Dataset({\n",
      "        features: ['Sentence', 'ID', 'Label'],\n",
      "        num_rows: 5000\n",
      "    })\n",
      "})\n"
     ]
    }
   ],
   "source": [
    "print(dataset)"
   ]
  },
  {
   "cell_type": "code",
   "execution_count": 6,
   "metadata": {},
   "outputs": [
    {
     "name": "stdout",
     "output_type": "stream",
     "text": [
      "{'Sentence': Value(dtype='string', id=None), 'ID': Value(dtype='int32', id=None), 'Label': ClassLabel(names=['Unlabeled', 'ADE-related', 'not ADE-related'], id=None)}\n",
      "['Unlabeled', 'ADE-related', 'not ADE-related']\n"
     ]
    }
   ],
   "source": [
    "# inspecting labels associated with the dataset\n",
    "\n",
    "train_dataset = dataset['train']\n",
    "print(train_dataset.features)\n",
    "label_info = train_dataset.features[\"Label\"]\n",
    "print([label_info.int2str(i) for i in (0, 1, 2)])"
   ]
  },
  {
   "cell_type": "code",
   "execution_count": 7,
   "metadata": {},
   "outputs": [
    {
     "name": "stdout",
     "output_type": "stream",
     "text": [
      "Counter({2: 35, 1: 15})\n"
     ]
    }
   ],
   "source": [
    "# counting the number of shots per class\n",
    "\n",
    "from collections import Counter\n",
    "\n",
    "counter = Counter(train_dataset[\"Label\"])\n",
    "print(counter)"
   ]
  },
  {
   "cell_type": "code",
   "execution_count": 11,
   "metadata": {},
   "outputs": [
    {
     "name": "stdout",
     "output_type": "stream",
     "text": [
      "ID:  0 , Label:  2\n",
      "Sentence:  No regional side effects were noted.\n",
      "ID:  1 , Label:  2\n",
      "Sentence:  We describe the case of a 10-year-old girl with two epileptic seizures and subcontinuous spike-waves during sleep, who presented unusual side-effects related to clobazam (CLB) monotherapy.\n",
      "ID:  2 , Label:  2\n",
      "Sentence:  The INR should be monitored more frequently when bosentan is initiated, adjusted, or discontinued in patients taking warfarin.\n",
      "ID:  3 , Label:  1\n",
      "Sentence:  After the first oral dose of propranolol, syncope developed together with atrioventricular block.\n",
      "ID:  4 , Label:  2\n",
      "Sentence:  As termination was not an option for the family, the patient was extensively counseled and treated with oral ganciclovir.\n",
      "ID:  5 , Label:  2\n",
      "Sentence:  Pulses have been given for periods up to three years without evident toxicity.\n",
      "ID:  6 , Label:  2\n",
      "Sentence:  CONCLUSION: Pancreatic enzyme intolerance, although rare, would be a major problem in the management of patients with CF.\n",
      "ID:  7 , Label:  2\n",
      "Sentence:  The treatment of Toxoplasma encephalitis in patients with acquired immunodeficiency syndrome.\n",
      "ID:  8 , Label:  2\n",
      "Sentence:  A challenge with clozapine was feasible and showed no clinical symptoms of eosinophilia.\n",
      "ID:  9 , Label:  1\n",
      "Sentence:  OBJECTIVE: To describe onset of syndrome of inappropriate antidiuretic hormone (SIADH) associated with vinorelbine therapy for advanced breast cancer.\n",
      "ID:  10 , Label:  2\n",
      "Sentence:  These results indicate that the hyponatremia in this case was due to SIADH and that SIADH was caused by an increased release of vasopressin probably because of the antiviral drug (acyclovir) or infection of varicella zoster virus (VZV) in a single dermatome.\n",
      "ID:  11 , Label:  1\n",
      "Sentence:  Macular infarction after endophthalmitis treated with vitrectomy and intravitreal gentamicin.\n",
      "ID:  12 , Label:  1\n",
      "Sentence:  These cases were considered unusual in light of the short delay of their onset after initiation of immunosuppressive therapy and their fulminant course: 3 of these patients died of PCP occurring during the first month of treatment with prednisone.\n",
      "ID:  13 , Label:  2\n",
      "Sentence:  In 1991 the patient were found to be seropositive for HCV antibodies as detected by the ELISA method and confirmed by the RIBA method.\n",
      "ID:  14 , Label:  2\n",
      "Sentence:  MRI has a high sensitivity and specificity in the diagnosis of osteonecrosis and should be used when this condition is suspected.\n",
      "ID:  15 , Label:  2\n",
      "Sentence:  Treatment of silastic catheter-induced central vein septic thrombophlebitis.\n",
      "ID:  16 , Label:  2\n",
      "Sentence:  These organisms have occasionally been reported as a cause of serious infections in man but have not been reported as a cause of shunt infection.\n",
      "ID:  17 , Label:  2\n",
      "Sentence:  NEH must be considered in lupus patients receiving cytotoxic agents to avoid inappropriate use of corticosteroids or antibiotics in this self-limited condition.\n",
      "ID:  18 , Label:  2\n",
      "Sentence:  The patient had no skin reactions for the next 12 mo, with the exception of injection-site papules.\n",
      "ID:  19 , Label:  2\n",
      "Sentence:  Of the 16 patients, including the 1 reported here, only 3 displayed significant shortening of the agranulocytic period after treatment.\n",
      "ID:  20 , Label:  2\n",
      "Sentence:  A closer look at septic shock.\n",
      "ID:  21 , Label:  2\n",
      "Sentence:  A 24- to 48-h course of large-dose glucocorticoid therapy is often used in the acute management of spinal cord injury.\n",
      "ID:  22 , Label:  2\n",
      "Sentence:  CT-scan disclosed right ethmoid sinusitis that spread to the orbit after surgery.\n",
      "ID:  23 , Label:  1\n",
      "Sentence:  Sotalol-induced bradycardia reversed by glucagon.\n",
      "ID:  24 , Label:  1\n",
      "Sentence:  The cases are important in documenting that drug-induced dystonias do occur in patients with dementia, that risperidone appears to have contributed to dystonia among elderly patients, and that the categorization of dystonic reactions needs further clarification.\n",
      "ID:  25 , Label:  2\n",
      "Sentence:  No abnormalities were identified on review of collection and processing records.\n",
      "ID:  26 , Label:  2\n",
      "Sentence:  A case study is presented of a licensed practical nurse who developed persistent contact dermatitis.\n",
      "ID:  27 , Label:  1\n",
      "Sentence:  An encephalopathy and cardiomyopathy developed in a seventeen-year-old girl with chemotherapy-induced renal failure while receiving an intravesical aluminum infusion for hemorrhagic cystitis.\n",
      "ID:  28 , Label:  2\n",
      "Sentence:  The gold standard for diagnosis is renal biopsy, but it is only rarely performed during the acute phase of the reaction and is not without risk.\n",
      "ID:  29 , Label:  2\n",
      "Sentence:  METHODS: We identified three patients who developed skin necrosis and determined any factors, which put them at an increased risk of doing so.\n",
      "ID:  30 , Label:  1\n",
      "Sentence:  We describe a patient who developed HUS after treatment with mitomycin C (total dose 144 mg/m2) due to a carcinoma of the ascending colon.\n",
      "ID:  31 , Label:  1\n",
      "Sentence:  The authors caution that treatment with alprazolam may be complicated by the induction of mania.\n",
      "ID:  32 , Label:  1\n",
      "Sentence:  We report a case of long lasting respiratory depression after intravenous administration of morphine to a 7 year old girl with haemolytic uraemic syndrome.\n",
      "ID:  33 , Label:  2\n",
      "Sentence:  Best-corrected visual acuity measurements were performed at every visit.\n",
      "ID:  34 , Label:  2\n",
      "Sentence:  Considerable improvement of myasthenic symptoms was seen in all patients within 3-6 months after the initiation of this therapy.\n",
      "ID:  35 , Label:  1\n",
      "Sentence:  We present three patients with paradoxical seizures; their serum phenytoin levels were 43.5 mcg/mL, 46.5 mcg/mL and 38.3 mcg/mL.\n",
      "ID:  36 , Label:  1\n",
      "Sentence:  A patient with psoriasis is described who had an abnormal response to the glucose tolerance test without other evidence of diabetes and then developed postprandial hyperglycemia and glycosuria during a period of topical administration of a corticosteroid cream, halcinonide cream 0.1%, under occlusion.\n",
      "ID:  37 , Label:  2\n",
      "Sentence:  This report demonstrates the increased risk of complicated varicella associated with the use of corticosteroids, even for a short period of time.\n",
      "ID:  38 , Label:  2\n",
      "Sentence:  This case report describes a 13-year-old male with diagnosis of autistic disorder and fetishistic behavior.\n",
      "ID:  39 , Label:  1\n",
      "Sentence:  Several hypersensitivity reactions to cloxacillin have been reported, although IgE-mediated allergic reactions to the drug are rare and there is little information about possible tolerance to other semisynthetic penicillins or cephalosporins in patients with cloxacillin allergy.\n",
      "ID:  40 , Label:  2\n",
      "Sentence:  A 69-year-old male was diagnosed in February 2004 with stage IV extranodal marginal zone B cell lymphoma involving the mediastinal nodes, lung parenchyma and bone marrow with high LDH.\n",
      "ID:  41 , Label:  2\n",
      "Sentence:  With serious cases, however, conventional treatment may not allow sufficient time at depth for the complete resolution of manifestations because of the need to avoid pulmonary oxygen toxicity which is associated with a prolonged period of breathing compressed air.\n",
      "ID:  42 , Label:  2\n",
      "Sentence:  Thrombolytic treatment is advocated for critical patients unless emergency institution of cardio pulmonary bypass is required and/or indicated.\n",
      "ID:  43 , Label:  2\n",
      "Sentence:  IMPLICATIONS: Dexmedetomidine, an alpha(2)-adrenoceptor agonist, is indicated for sedating patients on mechanical ventilation.\n",
      "ID:  44 , Label:  2\n",
      "Sentence:  Remarkable findings on initial examination were facial grimacing, flexure posturing of both upper extremities, and 7-mm, reactive pupils.\n",
      "ID:  45 , Label:  2\n",
      "Sentence:  Acute promyelocytic leukemia after living donor partial orthotopic liver transplantation in two Japanese girls.\n",
      "ID:  46 , Label:  1\n",
      "Sentence:  The mechanism by which sunitinib induces gynaecomastia is thought to be associated with an unknown direct action on breast hormonal receptors.\n",
      "ID:  47 , Label:  2\n",
      "Sentence:  Early detection of these cases has practical importance since the identification and elimination of the causative drug is essential for therapy success.\n",
      "ID:  48 , Label:  1\n",
      "Sentence:  CONCLUSIONS: These results suggest that clozapine may cause TD; however, the prevalence is low and the severity is relatively mild, with no or mild self-reported discomfort.\n",
      "ID:  49 , Label:  2\n",
      "Sentence:  METHODS: This study is a case report description.\n"
     ]
    }
   ],
   "source": [
    "for sample in dataset['train']:\n",
    "    print('ID: ', sample['ID'], ', Label: ', sample['Label'])\n",
    "    print('Sentence: ', sample['Sentence'])"
   ]
  }
 ],
 "metadata": {
  "kernelspec": {
   "display_name": "Python 3",
   "language": "python",
   "name": "python3"
  },
  "language_info": {
   "codemirror_mode": {
    "name": "ipython",
    "version": 3
   },
   "file_extension": ".py",
   "mimetype": "text/x-python",
   "name": "python",
   "nbconvert_exporter": "python",
   "pygments_lexer": "ipython3",
   "version": "3.11.4"
  }
 },
 "nbformat": 4,
 "nbformat_minor": 2
}
